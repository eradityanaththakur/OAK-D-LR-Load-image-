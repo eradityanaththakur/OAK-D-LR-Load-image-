{
  "nbformat": 4,
  "nbformat_minor": 0,
  "metadata": {
    "colab": {
      "provenance": []
    },
    "kernelspec": {
      "name": "python3",
      "display_name": "Python 3"
    },
    "language_info": {
      "name": "python"
    }
  },
  "cells": [
    {
      "cell_type": "code",
      "metadata": {
        "colab": {
          "base_uri": "https://localhost:8080/"
        },
        "id": "385b7d41",
        "outputId": "95538539-0907-4e4c-c7fd-7a75bb1e480e"
      },
      "source": [
        "!pip install depthai"
      ],
      "execution_count": 6,
      "outputs": [
        {
          "output_type": "stream",
          "name": "stdout",
          "text": [
            "Requirement already satisfied: depthai in /usr/local/lib/python3.11/dist-packages (2.30.0.0)\n"
          ]
        }
      ]
    },
    {
      "cell_type": "code",
      "metadata": {
        "colab": {
          "base_uri": "https://localhost:8080/",
          "height": 287
        },
        "id": "65188193",
        "outputId": "b8648851-825c-477f-ad0b-e5cec5bb7c0d"
      },
      "source": [
        "import depthai as dai\n",
        "import cv2\n",
        "\n",
        "# Pipeline\n",
        "pipeline = dai.Pipeline()\n",
        "\n",
        "# Color\n",
        "camRgb = pipeline.create(dai.node.ColorCamera)\n",
        "xoutRgb = pipeline.create(dai.node.XLinkOut)\n",
        "xoutRgb.setStreamName(\"rgb\")\n",
        "\n",
        "\n",
        "#Left\n",
        "monoLeft = pipeline.create(dai.node.MonoCamera)\n",
        "monoLeft.setBoardSocket(dai.CameraBoardSocket.LEFT)\n",
        "xoutLeft = pipeline.create(dai.node.XLinkOut)\n",
        "xoutLeft.setStreamName(\"left\")\n",
        "\n",
        "\n",
        "#Right\n",
        "monoRight = pipeline.create(dai.node.MonoCamera)\n",
        "monoRight.setBoardSocket(dai.CameraBoardSocket.RIGHT)\n",
        "xoutRight = pipeline.create(dai.node.XLinkOut)\n",
        "xoutRight.setStreamName(\"right\")\n",
        "\n",
        "\n",
        "# Linking\n",
        "camRgb.preview.link(xoutRgb.input)\n",
        "monoRight.out.link(xoutRight.input)\n",
        "monoLeft.out.link(xoutLeft.input)\n",
        "\n",
        "\n",
        "with dai.Device(pipeline) as device:\n",
        "    qRgb = device.getOutputQueue(name=\"rgb\", maxSize=2, blocking=False)\n",
        "    qLeft = device.getOutputQueue(name=\"left\", maxSize=2, blocking=False)\n",
        "    qRight = device.getOutputQueue(name=\"right\", maxSize=2, blocking=False)\n",
        "\n",
        "    while True:\n",
        "        inRgb = qRgb.get()  # blocking call, will wait until a new data has arrived\n",
        "        inLeft = qLeft.get()  # blocking call, will wait until a new data has arrived\n",
        "        inRight = qRight.get()  # blocking call, will wait until a new data has arrived\n",
        "\n",
        "        cv2.imshow(\"rgb\", cv2.cvtColor(inRgb.getCvFrame(), cv2.COLOR_RGB2BGR))\n",
        "        #cv2.imshow(\"left\", inLeft.getCvFrame())\n",
        "        #cv2.imshow(\"right\", inRight.getCvFrame())\n",
        "        if cv2.waitKey(1) == ord('q'):\n",
        "            break"
      ],
      "execution_count": 7,
      "outputs": [
        {
          "output_type": "stream",
          "name": "stderr",
          "text": [
            "/tmp/ipython-input-7-2077713538.py:15: DeprecationWarning: LEFT is deprecated, use CAM_B or address camera by name  instead.\n",
            "  monoLeft.setBoardSocket(dai.CameraBoardSocket.LEFT)\n",
            "/tmp/ipython-input-7-2077713538.py:22: DeprecationWarning: RIGHT is deprecated, use CAM_C or address camera by name  instead.\n",
            "  monoRight.setBoardSocket(dai.CameraBoardSocket.RIGHT)\n"
          ]
        },
        {
          "output_type": "error",
          "ename": "RuntimeError",
          "evalue": "Cannot find any device with given deviceInfo",
          "traceback": [
            "\u001b[0;31m---------------------------------------------------------------------------\u001b[0m",
            "\u001b[0;31mRuntimeError\u001b[0m                              Traceback (most recent call last)",
            "\u001b[0;32m/tmp/ipython-input-7-2077713538.py\u001b[0m in \u001b[0;36m<cell line: 0>\u001b[0;34m()\u001b[0m\n\u001b[1;32m     31\u001b[0m \u001b[0;34m\u001b[0m\u001b[0m\n\u001b[1;32m     32\u001b[0m \u001b[0;34m\u001b[0m\u001b[0m\n\u001b[0;32m---> 33\u001b[0;31m \u001b[0;32mwith\u001b[0m \u001b[0mdai\u001b[0m\u001b[0;34m.\u001b[0m\u001b[0mDevice\u001b[0m\u001b[0;34m(\u001b[0m\u001b[0mpipeline\u001b[0m\u001b[0;34m)\u001b[0m \u001b[0;32mas\u001b[0m \u001b[0mdevice\u001b[0m\u001b[0;34m:\u001b[0m\u001b[0;34m\u001b[0m\u001b[0;34m\u001b[0m\u001b[0m\n\u001b[0m\u001b[1;32m     34\u001b[0m     \u001b[0mqRgb\u001b[0m \u001b[0;34m=\u001b[0m \u001b[0mdevice\u001b[0m\u001b[0;34m.\u001b[0m\u001b[0mgetOutputQueue\u001b[0m\u001b[0;34m(\u001b[0m\u001b[0mname\u001b[0m\u001b[0;34m=\u001b[0m\u001b[0;34m\"rgb\"\u001b[0m\u001b[0;34m,\u001b[0m \u001b[0mmaxSize\u001b[0m\u001b[0;34m=\u001b[0m\u001b[0;36m2\u001b[0m\u001b[0;34m,\u001b[0m \u001b[0mblocking\u001b[0m\u001b[0;34m=\u001b[0m\u001b[0;32mFalse\u001b[0m\u001b[0;34m)\u001b[0m\u001b[0;34m\u001b[0m\u001b[0;34m\u001b[0m\u001b[0m\n\u001b[1;32m     35\u001b[0m     \u001b[0mqLeft\u001b[0m \u001b[0;34m=\u001b[0m \u001b[0mdevice\u001b[0m\u001b[0;34m.\u001b[0m\u001b[0mgetOutputQueue\u001b[0m\u001b[0;34m(\u001b[0m\u001b[0mname\u001b[0m\u001b[0;34m=\u001b[0m\u001b[0;34m\"left\"\u001b[0m\u001b[0;34m,\u001b[0m \u001b[0mmaxSize\u001b[0m\u001b[0;34m=\u001b[0m\u001b[0;36m2\u001b[0m\u001b[0;34m,\u001b[0m \u001b[0mblocking\u001b[0m\u001b[0;34m=\u001b[0m\u001b[0;32mFalse\u001b[0m\u001b[0;34m)\u001b[0m\u001b[0;34m\u001b[0m\u001b[0;34m\u001b[0m\u001b[0m\n",
            "\u001b[0;31mRuntimeError\u001b[0m: Cannot find any device with given deviceInfo"
          ]
        }
      ]
    }
  ]
}